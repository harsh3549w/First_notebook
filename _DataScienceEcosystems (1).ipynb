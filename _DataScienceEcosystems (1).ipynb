{
 "cells": [
  {
   "cell_type": "markdown",
   "id": "6cb37052-1cb0-4e9d-9bd1-91918a2ce938",
   "metadata": {},
   "source": [
    "# Data Science Tools and Ecosystem"
   ]
  },
  {
   "cell_type": "markdown",
   "id": "0fa6e447-7efb-4c52-809e-b17bb544f6a6",
   "metadata": {},
   "source": [
    "In this notebook, Data Science Tools and Ecosystem are summarized."
   ]
  },
  {
   "cell_type": "markdown",
   "id": "8e67eecf-4ddb-4c68-b95e-8c9b5d0e94fb",
   "metadata": {},
   "source": [
    "Some of the popular languages that Data Scientists use are:\n",
    "1. Python\n",
    "2. R\n",
    "3. SQL"
   ]
  },
  {
   "cell_type": "markdown",
   "id": "8430c589-2256-4af3-9717-f1736f672e3f",
   "metadata": {},
   "source": [
    "Some of the commonly used libraries used by Data Scientists include:\n",
    "1. Matplotlib\n",
    "2. scikit learn\n",
    "3. caret"
   ]
  },
  {
   "cell_type": "markdown",
   "id": "db71297f-fe76-4e8f-bb55-5fe8c6c14a8f",
   "metadata": {},
   "source": [
    "| Data Science Tools|\n",
    "|-------------------|\n",
    "|  jupyter notebbok |\n",
    "| anaconda navigator |\n",
    "| IBM watson studio |"
   ]
  },
  {
   "cell_type": "markdown",
   "id": "dffe8e31-d8a6-4e26-825a-a7b9caa760ff",
   "metadata": {},
   "source": [
    "### Below are a few examples of evaluating arithmetic expressions in Python"
   ]
  },
  {
   "cell_type": "code",
   "execution_count": 9,
   "id": "a63c311d-01f5-4154-8a20-5cc7653b19cf",
   "metadata": {},
   "outputs": [
    {
     "data": {
      "text/plain": [
       "17"
      ]
     },
     "execution_count": 9,
     "metadata": {},
     "output_type": "execute_result"
    }
   ],
   "source": [
    "#This a simple arithmetic expression to mutiply then add integers\n",
    "(3*4)+5"
   ]
  },
  {
   "cell_type": "code",
   "execution_count": 10,
   "id": "1ae618a9-e167-479d-80b1-cca2a2d5ce31",
   "metadata": {},
   "outputs": [
    {
     "data": {
      "text/plain": [
       "3.3333333333333335"
      ]
     },
     "execution_count": 10,
     "metadata": {},
     "output_type": "execute_result"
    }
   ],
   "source": [
    "#  This will convert 200 minutes to hours by diving by 60.\n",
    "200/60"
   ]
  },
  {
   "cell_type": "markdown",
   "id": "752f5e01-ae53-4207-821a-90fdab2ba78e",
   "metadata": {},
   "source": [
    "**Objectives:**\n",
    "* List popular languages for Data Science.\n",
    "* Create a code cell to multiply and add numbers\n",
    "* Create a markdown cell introducing arithmetic expression examples\n"
   ]
  },
  {
   "cell_type": "markdown",
   "id": "092700dc-a604-4312-b640-4fa2126c2991",
   "metadata": {},
   "source": [
    "## Author\n",
    "Harsh Rajput"
   ]
  },
  {
   "cell_type": "code",
   "execution_count": null,
   "id": "36416579-28ff-4a8f-bdb4-06aa5a63cfc9",
   "metadata": {},
   "outputs": [],
   "source": []
  }
 ],
 "metadata": {
  "kernelspec": {
   "display_name": "Python 3 (ipykernel)",
   "language": "python",
   "name": "python3"
  },
  "language_info": {
   "codemirror_mode": {
    "name": "ipython",
    "version": 3
   },
   "file_extension": ".py",
   "mimetype": "text/x-python",
   "name": "python",
   "nbconvert_exporter": "python",
   "pygments_lexer": "ipython3",
   "version": "3.13.5"
  }
 },
 "nbformat": 4,
 "nbformat_minor": 5
}
